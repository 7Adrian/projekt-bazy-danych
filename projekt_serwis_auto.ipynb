{
    "metadata": {
        "kernelspec": {
            "name": "SQL",
            "display_name": "SQL",
            "language": "sql"
        },
        "language_info": {
            "name": "sql",
            "version": ""
        }
    },
    "nbformat_minor": 2,
    "nbformat": 4,
    "cells": [
        {
            "cell_type": "markdown",
            "source": [
                "# Projekt bazy danych wspierającej serwis aut\n",
                "\n",
                "Wykonali: \n",
                "\n",
                "- Paweł Wójcik\n",
                "- Adrian Burakowski \n",
                "- Szymon Woźniak"
            ],
            "metadata": {
                "azdata_cell_guid": "869e2a00-1846-4aca-8874-0b18eb40ceef"
            }
        },
        {
            "cell_type": "markdown",
            "source": [
                "## Definicje tabel"
            ],
            "metadata": {
                "azdata_cell_guid": "e8b93685-a060-4342-b1fd-c6efcd797cf4"
            }
        },
        {
            "cell_type": "code",
            "source": [
                "USE master\r\n",
                "GO\r\n",
                "-- Create the new database if it does not exist already\r\n",
                "IF NOT EXISTS (\r\n",
                "  SELECT [name]\r\n",
                "    FROM sys.databases\r\n",
                "    WHERE [name] = N'SerwisAuto'\r\n",
                ")\r\n",
                "CREATE DATABASE SerwisAuto\r\n",
                "GO\r\n",
                "Use SerwisAuto\r\n",
                "\r\n",
                "-- If table exist already drop it\r\n",
                "IF OBJECT_ID('dbo.Mechanics', 'U') IS NOT NULL \r\n",
                "  DROP TABLE dbo.Mechanics; \r\n",
                "\r\n",
                "-- creating tables\r\n",
                "CREATE TABLE dbo.Mechanics (\r\n",
                "    ID int NOT NULL PRIMARY KEY IDENTITY(1, 1),\r\n",
                "    Name nvarchar(255),\r\n",
                ");\r\n",
                "\r\n",
                ""
            ],
            "metadata": {
                "azdata_cell_guid": "1e681bbc-b117-4811-bb60-a62829346061",
                "tags": []
            },
            "outputs": [],
            "execution_count": null
        },
        {
            "cell_type": "markdown",
            "source": [
                "## Przykładowe dane"
            ],
            "metadata": {
                "azdata_cell_guid": "7cb2ed97-c0a0-4713-9968-f8688da92783"
            }
        },
        {
            "cell_type": "code",
            "source": [
                ""
            ],
            "metadata": {
                "azdata_cell_guid": "a855fb48-e74f-4991-9acf-1d8729d6bca2"
            },
            "outputs": [],
            "execution_count": null
        },
        {
            "cell_type": "markdown",
            "source": [
                "## Zapytania"
            ],
            "metadata": {
                "azdata_cell_guid": "bd5fe411-3bbf-4161-a486-80b259990be2"
            }
        }
    ]
}