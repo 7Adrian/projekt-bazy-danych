{
    "metadata": {
        "kernelspec": {
            "name": "SQL",
            "display_name": "SQL",
            "language": "sql"
        },
        "language_info": {
            "name": "sql",
            "version": ""
        }
    },
    "nbformat_minor": 2,
    "nbformat": 4,
    "cells": [
        {
            "cell_type": "markdown",
            "source": [
                "# Projekt bazy danych wspierającej serwis aut\n",
                "\n",
                "Wykonali: \n",
                "\n",
                "- Paweł Wójcik\n",
                "- Adrian Burakowski \n",
                "- Szymon Woźniak"
            ],
            "metadata": {
                "azdata_cell_guid": "869e2a00-1846-4aca-8874-0b18eb40ceef"
            }
        },
        {
            "cell_type": "markdown",
            "source": [
                "### Definicje tabel"
            ],
            "metadata": {
                "azdata_cell_guid": "e8b93685-a060-4342-b1fd-c6efcd797cf4"
            }
        }
    ]
}