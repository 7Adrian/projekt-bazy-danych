{
    "metadata": {
        "kernelspec": {
            "name": "SQL",
            "display_name": "SQL",
            "language": "sql"
        },
        "language_info": {
            "name": "sql",
            "version": ""
        }
    },
    "nbformat_minor": 2,
    "nbformat": 4,
    "cells": [
        {
            "cell_type": "markdown",
            "source": [
                "# Projekt bazy danych wspierającej serwis aut\n",
                "\n",
                "Wykonali: \n",
                "\n",
                "- Paweł Wójcik\n",
                "- Adrian Burakowski \n",
                "- Szymon Woźniak"
            ],
            "metadata": {
                "azdata_cell_guid": "869e2a00-1846-4aca-8874-0b18eb40ceef"
            }
        },
        {
            "cell_type": "markdown",
            "source": [
                "## Definicje tabel"
            ],
            "metadata": {
                "azdata_cell_guid": "e8b93685-a060-4342-b1fd-c6efcd797cf4"
            }
        },
        {
            "cell_type": "code",
            "source": [
                "USE master\r\n",
                "GO\r\n",
                "-- Create the new database if it does not exist already\r\n",
                "IF NOT EXISTS (\r\n",
                "  SELECT [name]\r\n",
                "    FROM sys.databases\r\n",
                "    WHERE [name] = N'SerwisAuto'\r\n",
                ")\r\n",
                "CREATE DATABASE SerwisAuto\r\n",
                "GO\r\n",
                "Use SerwisAuto\r\n",
                "\r\n",
                "-- If table exist already drop it\r\n",
                "IF OBJECT_ID('dbo.Mechanic', 'U') IS NOT NULL \r\n",
                "  DROP TABLE dbo.Mechanic; \r\n",
                "IF OBJECT_ID('dbo.TypesOfServices', 'U') IS NOT NULL \r\n",
                "  DROP TABLE dbo.TypesOfServices; \r\n",
                "IF OBJECT_ID('dbo.TypesMechanic', 'U') IS NOT NULL \r\n",
                "  DROP TABLE dbo.TypesMechanic; \r\n",
                "IF OBJECT_ID('dbo.Adresses', 'U') IS NOT NULL \r\n",
                "  DROP TABLE dbo.Adresses; \r\n",
                "IF OBJECT_ID('dbo.Client', 'U') IS NOT NULL \r\n",
                "  DROP TABLE dbo.Client; \r\n",
                "IF OBJECT_ID('dbo.Auto', 'U') IS NOT NULL \r\n",
                "  DROP TABLE dbo.Auto; \r\n",
                "IF OBJECT_ID('dbo.Service', 'U') IS NOT NULL \r\n",
                "  DROP TABLE dbo.Service; \r\n",
                "IF OBJECT_ID('dbo.Part', 'U') IS NOT NULL \r\n",
                "  DROP TABLE dbo.Part; \r\n",
                "\r\n",
                "-- creating tables\r\n",
                "CREATE TABLE dbo.TypesOfServices (\r\n",
                "    ID int NOT NULL PRIMARY KEY IDENTITY(1, 1),\r\n",
                "    Name nvarchar(255),\r\n",
                "    Cost FLOAT,\r\n",
                ");\r\n",
                "\r\n",
                "\r\n",
                "CREATE TABLE dbo.Mechanic (\r\n",
                "    ID int NOT NULL PRIMARY KEY IDENTITY(1, 1),\r\n",
                "    Name nvarchar(255),\r\n",
                "    Surname nvarchar(255),\r\n",
                "    PhoneNumber BIGINT,\r\n",
                "    WorkStart INT,\r\n",
                "    WorkEnd INT,\r\n",
                ");\r\n",
                "\r\n",
                "CREATE TABLE dbo.TypesMechanic (\r\n",
                "     Type int FOREIGN KEY REFERENCES dbo.TypesOfServices(ID),\r\n",
                "     Mechanic int FOREIGN KEY REFERENCES dbo.Mechanic(ID), \r\n",
                ");\r\n",
                "\r\n",
                "CREATE TABLE dbo.Adresses (\r\n",
                "    ID int NOT NULL PRIMARY KEY IDENTITY(1, 1),\r\n",
                "    Ulica nvarchar(255),\r\n",
                "    NrDomu INT,\r\n",
                ");\r\n",
                "\r\n",
                "CREATE TABLE dbo.Client (\r\n",
                "    ID int NOT NULL PRIMARY KEY IDENTITY(1, 1),\r\n",
                "    Name nvarchar(255),\r\n",
                "    Surname nvarchar(255),\r\n",
                "    Adres int FOREIGN KEY REFERENCES dbo.Adresses(ID), \r\n",
                "    PhoneNumber BIGINT,\r\n",
                ");\r\n",
                "\r\n",
                "CREATE TABLE dbo.Auto (\r\n",
                "    ID int NOT NULL PRIMARY KEY IDENTITY(1, 1),\r\n",
                "    Owner int FOREIGN KEY REFERENCES dbo.Client(ID),\r\n",
                "    Model nvarchar(255),\r\n",
                "    VehicleMake nvarchar(255),\r\n",
                "    ManufactureYear INT,\r\n",
                "    VIN nvarchar(255),\r\n",
                "    EngineNr nvarchar(255),\r\n",
                ");\r\n",
                "\r\n",
                "CREATE TABLE dbo.Service (\r\n",
                "    ID int NOT NULL PRIMARY KEY IDENTITY(1, 1),\r\n",
                "    Type int FOREIGN KEY REFERENCES dbo.TypesOfServices(ID),\r\n",
                "    Auto int FOREIGN KEY REFERENCES dbo.Auto(ID),\r\n",
                "    BeginDate DATE,\r\n",
                "    EndDate DATE,\r\n",
                "    isPaid BIT,\r\n",
                "\r\n",
                ");\r\n",
                "\r\n",
                "CREATE TABLE dbo.Part (\r\n",
                "    ID int NOT NULL PRIMARY KEY IDENTITY(1, 1),\r\n",
                "    Service int FOREIGN KEY REFERENCES dbo.Service(ID),\r\n",
                "    Name nvarchar(255),\r\n",
                "    Cost FLOAT,\r\n",
                "    Quantity INT,\r\n",
                "    Manufacturer nvarchar(255),\r\n",
                "    isReplacement BIT,\r\n",
                ");\r\n",
                "\r\n",
                ""
            ],
            "metadata": {
                "azdata_cell_guid": "1e681bbc-b117-4811-bb60-a62829346061",
                "tags": []
            },
            "outputs": [
                {
                    "output_type": "display_data",
                    "data": {
                        "text/html": "Commands completed successfully."
                    },
                    "metadata": {}
                },
                {
                    "output_type": "display_data",
                    "data": {
                        "text/html": "Commands completed successfully."
                    },
                    "metadata": {}
                },
                {
                    "output_type": "display_data",
                    "data": {
                        "text/html": "Commands completed successfully."
                    },
                    "metadata": {}
                },
                {
                    "output_type": "display_data",
                    "data": {
                        "text/html": "Total execution time: 00:00:01.210"
                    },
                    "metadata": {}
                }
            ],
            "execution_count": 3
        },
        {
            "cell_type": "markdown",
            "source": [
                "## Przykładowe dane"
            ],
            "metadata": {
                "azdata_cell_guid": "7cb2ed97-c0a0-4713-9968-f8688da92783"
            }
        },
        {
            "cell_type": "code",
            "source": [
                ""
            ],
            "metadata": {
                "azdata_cell_guid": "a855fb48-e74f-4991-9acf-1d8729d6bca2"
            },
            "outputs": [],
            "execution_count": null
        },
        {
            "cell_type": "markdown",
            "source": [
                "## Zapytania"
            ],
            "metadata": {
                "azdata_cell_guid": "bd5fe411-3bbf-4161-a486-80b259990be2"
            }
        }
    ]
}